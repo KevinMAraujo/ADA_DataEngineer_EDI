{
 "cells": [
  {
   "cell_type": "markdown",
   "metadata": {},
   "source": [
    "# Projeto de Extração de Dados de Engenharia de Dados da ADA Tech"
   ]
  },
  {
   "cell_type": "markdown",
   "metadata": {},
   "source": [
    "## Teste da chamada do arquivo Silver"
   ]
  },
  {
   "cell_type": "code",
   "execution_count": 10,
   "metadata": {},
   "outputs": [
    {
     "name": "stdout",
     "output_type": "stream",
     "text": [
      "<class 'pandas.core.frame.DataFrame'>\n",
      "Index: 171 entries, 0 to 32\n",
      "Data columns (total 13 columns):\n",
      " #   Column       Non-Null Count  Dtype         \n",
      "---  ------       --------------  -----         \n",
      " 0   author       171 non-null    object        \n",
      " 1   content      171 non-null    object        \n",
      " 2   description  171 non-null    object        \n",
      " 3   publishedAt  171 non-null    object        \n",
      " 4   title        161 non-null    object        \n",
      " 5   url          171 non-null    object        \n",
      " 6   urlToImage   169 non-null    object        \n",
      " 7   load_date    171 non-null    datetime64[us]\n",
      " 8   year         171 non-null    int32         \n",
      " 9   month        171 non-null    int32         \n",
      " 10  day          171 non-null    int32         \n",
      " 11  source_id    22 non-null     object        \n",
      " 12  source_name  171 non-null    object        \n",
      "dtypes: datetime64[us](1), int32(3), object(9)\n",
      "memory usage: 16.7+ KB\n"
     ]
    }
   ],
   "source": [
    "import pandas as pd\n",
    "\n",
    "df = pd.read_parquet(\"data/silver/silver.parquet\")\n",
    "\n",
    "df.info()"
   ]
  },
  {
   "cell_type": "code",
   "execution_count": 12,
   "metadata": {},
   "outputs": [
    {
     "data": {
      "text/html": [
       "<div>\n",
       "<style scoped>\n",
       "    .dataframe tbody tr th:only-of-type {\n",
       "        vertical-align: middle;\n",
       "    }\n",
       "\n",
       "    .dataframe tbody tr th {\n",
       "        vertical-align: top;\n",
       "    }\n",
       "\n",
       "    .dataframe thead th {\n",
       "        text-align: right;\n",
       "    }\n",
       "</style>\n",
       "<table border=\"1\" class=\"dataframe\">\n",
       "  <thead>\n",
       "    <tr style=\"text-align: right;\">\n",
       "      <th></th>\n",
       "      <th>author</th>\n",
       "      <th>content</th>\n",
       "      <th>description</th>\n",
       "      <th>publishedAt</th>\n",
       "      <th>title</th>\n",
       "      <th>url</th>\n",
       "      <th>urlToImage</th>\n",
       "      <th>load_date</th>\n",
       "      <th>year</th>\n",
       "      <th>month</th>\n",
       "      <th>day</th>\n",
       "      <th>source_id</th>\n",
       "      <th>source_name</th>\n",
       "    </tr>\n",
       "  </thead>\n",
       "  <tbody>\n",
       "    <tr>\n",
       "      <th>0</th>\n",
       "      <td>Agência Brasil</td>\n",
       "      <td>Os sintomas da dengue tipo 3 são os mesmos dos...</td>\n",
       "      <td>A Secretaria de Estado de Saúde do Rio de Jane...</td>\n",
       "      <td>2024-04-05</td>\n",
       "      <td>None</td>\n",
       "      <td>https://noticias.uol.com.br/ultimas-noticias/a...</td>\n",
       "      <td>https://conteudo.imguol.com.br/c/entreteniment...</td>\n",
       "      <td>2024-04-08 16:24:58.946200</td>\n",
       "      <td>2024</td>\n",
       "      <td>4</td>\n",
       "      <td>5</td>\n",
       "      <td>None</td>\n",
       "      <td>Uol.com.br</td>\n",
       "    </tr>\n",
       "    <tr>\n",
       "      <th>1</th>\n",
       "      <td>Nicholas Shores</td>\n",
       "      <td>Assine VEJA por R$2,00/semanaRadar\\r\\nSEGUIR\\r...</td>\n",
       "      <td>Levantamento da Mob2Con mostra que preço médio...</td>\n",
       "      <td>2024-04-05</td>\n",
       "      <td>Dengue em alta agrava falta de repelentes nas ...</td>\n",
       "      <td>https://veja.abril.com.br/coluna/radar/dengue-...</td>\n",
       "      <td>https://veja.abril.com.br/wp-content/uploads/2...</td>\n",
       "      <td>2024-04-08 16:24:58.946200</td>\n",
       "      <td>2024</td>\n",
       "      <td>4</td>\n",
       "      <td>5</td>\n",
       "      <td>None</td>\n",
       "      <td>Abril.com.br</td>\n",
       "    </tr>\n",
       "  </tbody>\n",
       "</table>\n",
       "</div>"
      ],
      "text/plain": [
       "            author                                            content  \\\n",
       "0   Agência Brasil  Os sintomas da dengue tipo 3 são os mesmos dos...   \n",
       "1  Nicholas Shores  Assine VEJA por R$2,00/semanaRadar\\r\\nSEGUIR\\r...   \n",
       "\n",
       "                                         description publishedAt  \\\n",
       "0  A Secretaria de Estado de Saúde do Rio de Jane...  2024-04-05   \n",
       "1  Levantamento da Mob2Con mostra que preço médio...  2024-04-05   \n",
       "\n",
       "                                               title  \\\n",
       "0                                               None   \n",
       "1  Dengue em alta agrava falta de repelentes nas ...   \n",
       "\n",
       "                                                 url  \\\n",
       "0  https://noticias.uol.com.br/ultimas-noticias/a...   \n",
       "1  https://veja.abril.com.br/coluna/radar/dengue-...   \n",
       "\n",
       "                                          urlToImage  \\\n",
       "0  https://conteudo.imguol.com.br/c/entreteniment...   \n",
       "1  https://veja.abril.com.br/wp-content/uploads/2...   \n",
       "\n",
       "                   load_date  year  month  day source_id   source_name  \n",
       "0 2024-04-08 16:24:58.946200  2024      4    5      None    Uol.com.br  \n",
       "1 2024-04-08 16:24:58.946200  2024      4    5      None  Abril.com.br  "
      ]
     },
     "execution_count": 12,
     "metadata": {},
     "output_type": "execute_result"
    }
   ],
   "source": [
    "df.head(2)"
   ]
  },
  {
   "cell_type": "markdown",
   "metadata": {},
   "source": [
    "## 4. Dados transformados para consulta do público final\n",
    "\n",
    "\n",
    "\n",
    "\n",
    "\n"
   ]
  },
  {
   "cell_type": "markdown",
   "metadata": {},
   "source": [
    "#### 4.1 - Quantidade de notícias por ano, mês e dia de publicação;"
   ]
  },
  {
   "cell_type": "code",
   "execution_count": null,
   "metadata": {},
   "outputs": [],
   "source": []
  },
  {
   "cell_type": "markdown",
   "metadata": {},
   "source": [
    "#### 4.2 - Quantidade de notícias por fonte e autor;"
   ]
  },
  {
   "cell_type": "code",
   "execution_count": null,
   "metadata": {},
   "outputs": [],
   "source": []
  },
  {
   "cell_type": "markdown",
   "metadata": {},
   "source": [
    "#### 4.3 - Quantidade de aparições de 3 palavras chaves por ano, mês e dia de publicação (as 3 palavras chaves serão as mesmas usadas para fazer os filtros de relevância do item 2 (2. Definir Critérios de Relevância))."
   ]
  },
  {
   "cell_type": "code",
   "execution_count": null,
   "metadata": {},
   "outputs": [],
   "source": []
  }
 ],
 "metadata": {
  "kernelspec": {
   "display_name": "Python 3",
   "language": "python",
   "name": "python3"
  },
  "language_info": {
   "codemirror_mode": {
    "name": "ipython",
    "version": 3
   },
   "file_extension": ".py",
   "mimetype": "text/x-python",
   "name": "python",
   "nbconvert_exporter": "python",
   "pygments_lexer": "ipython3",
   "version": "3.10.11"
  }
 },
 "nbformat": 4,
 "nbformat_minor": 2
}
