{
 "cells": [
  {
   "cell_type": "markdown",
   "metadata": {},
   "source": [
    "# Projeto de Extração de Dados de Engenharia de Dados da ADA Tech"
   ]
  },
  {
   "cell_type": "markdown",
   "metadata": {},
   "source": [
    "# 1. Bibliotecas"
   ]
  },
  {
   "cell_type": "markdown",
   "metadata": {},
   "source": [
    "As bibliotecas utilizadas para criação do Webhook são:\n",
    "\n",
    "- Requests: Pacote de requisição GET.\n",
    "- OS: Gestão de pastas do Windows.\n",
    "- Flask: Pacote Python para criação de aplicação WEB.\n",
    "- Dotenv: Pacote Python para resguardar as variáveis de ambiente."
   ]
  },
  {
   "cell_type": "code",
   "execution_count": 1,
   "metadata": {},
   "outputs": [],
   "source": [
    "import requests\n",
    "import os\n",
    "from flask import Flask,request\n",
    "from dotenv import load_dotenv"
   ]
  },
  {
   "cell_type": "markdown",
   "metadata": {},
   "source": [
    "# 2. Criação do webhook e Chamada"
   ]
  },
  {
   "cell_type": "markdown",
   "metadata": {},
   "source": [
    "### 2.1 Webhook"
   ]
  },
  {
   "cell_type": "code",
   "execution_count": 2,
   "metadata": {},
   "outputs": [
    {
     "name": "stdout",
     "output_type": "stream",
     "text": [
      " * Serving Flask app '__main__'\n",
      " * Debug mode: off\n"
     ]
    },
    {
     "name": "stderr",
     "output_type": "stream",
     "text": [
      "WARNING: This is a development server. Do not use it in a production deployment. Use a production WSGI server instead.\n",
      " * Running on all addresses (0.0.0.0)\n",
      " * Running on http://127.0.0.1:8000\n",
      " * Running on http://192.168.15.18:8000\n",
      "Press CTRL+C to quit\n",
      "192.168.15.18 - - [01/Apr/2024 20:00:01] \"POST /webhook HTTP/1.1\" 200 -\n",
      "192.168.15.18 - - [01/Apr/2024 21:00:01] \"POST /webhook HTTP/1.1\" 200 -\n",
      "192.168.15.18 - - [01/Apr/2024 21:29:58] \"POST /webhook HTTP/1.1\" 200 -\n",
      "192.168.15.18 - - [01/Apr/2024 21:31:20] \"POST /webhook HTTP/1.1\" 200 -\n",
      "192.168.15.18 - - [01/Apr/2024 21:32:32] \"POST /webhook HTTP/1.1\" 200 -\n",
      "192.168.15.18 - - [01/Apr/2024 21:32:38] \"POST /webhook HTTP/1.1\" 200 -\n",
      "192.168.15.18 - - [01/Apr/2024 21:35:28] \"POST /webhook HTTP/1.1\" 200 -\n"
     ]
    }
   ],
   "source": [
    "load_dotenv()\n",
    "\n",
    "app = Flask(__name__)\n",
    "\n",
    "NEWS_API_KEY = os.getenv('news_api')\n",
    "\n",
    "@app.route('/webhook', methods=['POST'])\n",
    "def webhook():\n",
    "    if request.method == 'POST':\n",
    "        data = request.json\n",
    "        if 'query' in data:\n",
    "            query = data['query']\n",
    "            one_hour_ago = data['from']\n",
    "            current_time = data['to']\n",
    "            news_data = get_news(query,one_hour_ago,current_time)\n",
    "            return news_data\n",
    "        else:\n",
    "            return \"Query não encontrada no payload.\"\n",
    "\n",
    "def get_news(query,one_hour_ago,current_time):\n",
    "    url = f'https://newsapi.org/v2/everything?q={query}&from={one_hour_ago}&to={current_time}&apiKey={NEWS_API_KEY}'\n",
    "    response = requests.get(url)\n",
    "    \n",
    "    if response.status_code == 200:\n",
    "        news_data = response.json()\n",
    "        return news_data\n",
    "    else:\n",
    "        return \"Erro ao buscar notícias.\"\n",
    "\n",
    "if __name__ == \"__main__\":\n",
    "    app.run(host='0.0.0.0', port=8000)"
   ]
  },
  {
   "cell_type": "markdown",
   "metadata": {},
   "source": [
    "### 2.2 Chamada de API"
   ]
  },
  {
   "cell_type": "code",
   "execution_count": null,
   "metadata": {},
   "outputs": [],
   "source": [
    "def requisicao(query,one_hour_ago, current_time):   \n",
    "    # URL da API webhook\n",
    "    url = \"http://192.168.15.18:8000/webhook\"\n",
    "    \n",
    "    # Dados a serem enviados na requisição\n",
    "    data = {\n",
    "        \"query\": query,\n",
    "        \"from\":one_hour_ago,\n",
    "        \"to\":current_time\n",
    "    }\n",
    "\n",
    "    # Enviando a requisição POST para a API\n",
    "    response = requests.post(url, json=data)\n",
    "\n",
    "\n",
    "    # Verificando o status da resposta\n",
    "    if response.status_code == 200:\n",
    "\n",
    "        # Geração do arquivo JSON\n",
    "        webhook_data = response.json()\n",
    "\n",
    "        if webhook_data[\"totalResults\"] > 0:\n",
    "\n",
    "            dia_anterior = (datetime.now() - timedelta(days=1) - timedelta(hours=1)).strftime('%Y-%m-%d')\n",
    "\n",
    "            hm = (datetime.now() - timedelta(hours=1)).strftime('%H-%M')\n",
    "\n",
    "            folder_path = f'noticias/{dia_anterior}'\n",
    "            if not os.path.exists(folder_path):\n",
    "                os.makedirs(folder_path)\n",
    "            with open(f'{folder_path}/{hm}-news.json', 'w') as f:\n",
    "                json.dump(webhook_data, f)\n",
    "            print(\"Novas notícias foram encontradas e salvas:\", webhook_data)\n",
    "\n",
    "        else:\n",
    "            print(\"Não há noticias novas com essa Query\")\n",
    "        \n",
    "    else:\n",
    "        # Caso contrário, houve um erro na requisição\n",
    "        print(\"Erro ao enviar webhook.\")\n",
    "        if not os.path.exists(\"./log_erro.txt\"):\n",
    "            with open(f'log_erro.txt', 'w') as f:\n",
    "                f.write(f\"{hm},{response.text}\")\n",
    "        with open(f'news.json', 'a') as f:\n",
    "            f.write(f\"{hm},{response.text}\")\n",
    "\n"
   ]
  }
 ],
 "metadata": {
  "kernelspec": {
   "display_name": "Python 3",
   "language": "python",
   "name": "python3"
  },
  "language_info": {
   "codemirror_mode": {
    "name": "ipython",
    "version": 3
   },
   "file_extension": ".py",
   "mimetype": "text/x-python",
   "name": "python",
   "nbconvert_exporter": "python",
   "pygments_lexer": "ipython3",
   "version": "3.10.11"
  }
 },
 "nbformat": 4,
 "nbformat_minor": 2
}
