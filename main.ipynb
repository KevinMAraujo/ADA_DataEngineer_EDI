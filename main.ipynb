{
 "cells": [
  {
   "cell_type": "markdown",
   "metadata": {},
   "source": [
    "# Preparando o ambiente"
   ]
  },
  {
   "cell_type": "code",
   "execution_count": 1,
   "metadata": {},
   "outputs": [
    {
     "name": "stderr",
     "output_type": "stream",
     "text": [
      "[03/04/2024 19:40:35] Tentando criar o diretório data/raw.\n",
      "[03/04/2024 19:40:35] O diretório data/raw já existe, nada será feito.\n",
      "[03/04/2024 19:40:35] Tentando criar o diretório data/processed.\n",
      "[03/04/2024 19:40:35] O diretório data/processed já existe, nada será feito.\n"
     ]
    }
   ],
   "source": [
    "from modules.utils import prepare_data_filesystem\n",
    "\n",
    "prepare_data_filesystem()"
   ]
  },
  {
   "cell_type": "markdown",
   "metadata": {},
   "source": [
    "# Programando as execuções"
   ]
  },
  {
   "cell_type": "code",
   "execution_count": 2,
   "metadata": {},
   "outputs": [
    {
     "name": "stderr",
     "output_type": "stream",
     "text": [
      "[03/04/2024 19:40:35] FIST STEP (FOR EACH 1 HOUR)\n",
      "[03/04/2024 19:40:35] Extracting...\n",
      "[03/04/2024 19:40:35] Construindo os dados a serem enviados na requisição\n",
      "[03/04/2024 19:40:35] Enviando a requisição\n",
      "[03/04/2024 19:40:39] Requisição feita com sucesso!!\n",
      "[03/04/2024 19:40:39] Não há novos artigos no periodo de 2024-04-03T18:00:35 a 2024-04-03T19:00:35\n"
     ]
    }
   ],
   "source": [
    "from modules.etl.first import bronze_step\n",
    "\n",
    "bronze_step(query=\"dengue\",languague=\"pt\")"
   ]
  }
 ],
 "metadata": {
  "kernelspec": {
   "display_name": ".venv",
   "language": "python",
   "name": "python3"
  },
  "language_info": {
   "codemirror_mode": {
    "name": "ipython",
    "version": 3
   },
   "file_extension": ".py",
   "mimetype": "text/x-python",
   "name": "python",
   "nbconvert_exporter": "python",
   "pygments_lexer": "ipython3",
   "version": "3.12.1"
  }
 },
 "nbformat": 4,
 "nbformat_minor": 2
}
