{
 "cells": [
  {
   "cell_type": "markdown",
   "metadata": {},
   "source": [
    "# Preparando o ambiente"
   ]
  },
  {
   "cell_type": "code",
   "execution_count": 1,
   "metadata": {},
   "outputs": [
    {
     "name": "stderr",
     "output_type": "stream",
     "text": [
      "[03/04/2024 02:45:58] Tentando criar o direttório data/raw.\n",
      "[03/04/2024 02:45:58] O diretório data/raw já existe, nada será feito.\n",
      "[03/04/2024 02:45:58] Tentando criar o direttório data/processed.\n",
      "[03/04/2024 02:45:58] O diretório data/processed já existe, nada será feito.\n"
     ]
    }
   ],
   "source": [
    "from modules.utils import prepare_data_filesystem\n",
    "\n",
    "prepare_data_filesystem()"
   ]
  },
  {
   "cell_type": "markdown",
   "metadata": {},
   "source": [
    "# Programando as execuções"
   ]
  },
  {
   "cell_type": "code",
   "execution_count": 2,
   "metadata": {},
   "outputs": [
    {
     "name": "stderr",
     "output_type": "stream",
     "text": [
      "03/04/2024 02:29:31: Construindo os dados a serem enviados na requisição\n",
      "03/04/2024 02:29:31: Enviando a requisição\n",
      "03/04/2024 02:29:31: Requisição fetia com sucesso!!\n"
     ]
    },
    {
     "name": "stdout",
     "output_type": "stream",
     "text": [
      "{'articles': [], 'status': 'ok', 'totalResults': 0}\n"
     ]
    }
   ],
   "source": [
    "from modules.etl.first import etl\n",
    "\n",
    "etl(query=\"dengue\",languague=\"pt\")"
   ]
  }
 ],
 "metadata": {
  "kernelspec": {
   "display_name": ".venv",
   "language": "python",
   "name": "python3"
  },
  "language_info": {
   "codemirror_mode": {
    "name": "ipython",
    "version": 3
   },
   "file_extension": ".py",
   "mimetype": "text/x-python",
   "name": "python",
   "nbconvert_exporter": "python",
   "pygments_lexer": "ipython3",
   "version": "3.11.4"
  }
 },
 "nbformat": 4,
 "nbformat_minor": 2
}
