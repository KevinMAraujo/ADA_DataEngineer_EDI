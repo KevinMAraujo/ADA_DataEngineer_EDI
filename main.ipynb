{
 "cells": [
  {
   "cell_type": "markdown",
   "metadata": {},
   "source": [
    "# Preparando o ambiente"
   ]
  },
  {
   "cell_type": "code",
   "execution_count": 1,
   "metadata": {},
   "outputs": [
    {
     "name": "stderr",
     "output_type": "stream",
     "text": [
      "[03/04/2024 02:58:12] Tentando criar o diretório data/raw.\n",
      "[03/04/2024 02:58:12] O diretório data/raw já existe, nada será feito.\n",
      "[03/04/2024 02:58:12] Tentando criar o diretório data/processed.\n",
      "[03/04/2024 02:58:12] O diretório data/processed já existe, nada será feito.\n"
     ]
    }
   ],
   "source": [
    "from modules.utils import prepare_data_filesystem\n",
    "\n",
    "prepare_data_filesystem()"
   ]
  },
  {
   "cell_type": "markdown",
   "metadata": {},
   "source": [
    "# Programando as execuções"
   ]
  },
  {
   "cell_type": "code",
   "execution_count": 2,
   "metadata": {},
   "outputs": [
    {
     "name": "stderr",
     "output_type": "stream",
     "text": [
      "c:\\Users\\Rafa\\Documents\\Github\\ada_extracao_dados\\.venv\\Lib\\site-packages\\pyspark\\pandas\\__init__.py:50: UserWarning: 'PYARROW_IGNORE_TIMEZONE' environment variable was not set. It is required to set this environment variable to '1' in both driver and executor sides if you use pyarrow>=2.0.0. pandas-on-Spark will set it for you but it does not work if there is a Spark context already launched.\n",
      "  warnings.warn(\n",
      "[03/04/2024 02:58:14] FIST STEP (FOR EACH 1 HOUR)\n",
      "[03/04/2024 02:58:14] Extracting...\n",
      "[03/04/2024 02:58:14] Construindo os dados a serem enviados na requisição\n",
      "[03/04/2024 02:58:14] Enviando a requisição\n",
      "[03/04/2024 02:58:14] Requisição feita com sucesso!!\n",
      "[03/04/2024 02:58:14] Transforming...\n",
      "[03/04/2024 02:58:14] Não há artigos disponíveis entre 2024-04-03T01:00:14 e 2024-04-03T02:00:14\n"
     ]
    }
   ],
   "source": [
    "from modules.etl.first import etl\n",
    "\n",
    "etl(query=\"dengue\",languague=\"pt\")"
   ]
  }
 ],
 "metadata": {
  "kernelspec": {
   "display_name": ".venv",
   "language": "python",
   "name": "python3"
  },
  "language_info": {
   "codemirror_mode": {
    "name": "ipython",
    "version": 3
   },
   "file_extension": ".py",
   "mimetype": "text/x-python",
   "name": "python",
   "nbconvert_exporter": "python",
   "pygments_lexer": "ipython3",
   "version": "3.11.4"
  }
 },
 "nbformat": 4,
 "nbformat_minor": 2
}
