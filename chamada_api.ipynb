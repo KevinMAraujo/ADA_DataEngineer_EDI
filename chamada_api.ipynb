{
 "cells": [
  {
   "cell_type": "code",
   "execution_count": 1,
   "metadata": {},
   "outputs": [],
   "source": [
    "import requests\n",
    "import json\n",
    "import os\n",
    "import time\n",
    "from datetime import datetime, timedelta"
   ]
  },
  {
   "cell_type": "code",
   "execution_count": 2,
   "metadata": {},
   "outputs": [
    {
     "name": "stdout",
     "output_type": "stream",
     "text": [
      "Novas notícias foram encontradas e salvas: [{'author': 'Alejandro Horvat', 'content': 'La Argentina, tal como sucede en otros países de la región, enfrenta un brote de dengue que se perfila para alcanzar un récord de casos. \\r\\nLa Organización Mundial de la Salud señala que los síntomas … [+3498 chars]', 'description': 'Ante la aparición de síntomas, las autoridades sanitarias recomiendan la consulta rápida al médico de cabecera o el centro de salud más próximo', 'publishedAt': '2024-03-26T12:57:24Z', 'source': {'id': 'la-nacion', 'name': 'La Nacion'}, 'title': 'Cuáles son los tratamientos más efectivos ante el dengue', 'url': 'https://www.lanacion.com.ar/sociedad/cuales-son-los-tratamientos-mas-efectivos-ante-el-dengue-nid26032024/', 'urlToImage': 'https://resizer.glanacion.com/resizer/v2/los-especialistas-senalan-que-los-tratamientos-X7VFI3MYCZBVZE5FC47Y6OT7BI.jpg?auth=9da09d49aefaa61c2a9a6c450b774a358ea1f79bae3c8278ee98ca7e82ee89f3&width=768&quality=70&smart=false'}]\n",
      "Novas notícias foram encontradas e salvas: [{'author': 'Fabiola Czubaj', 'content': 'Ante la epidemia, las autoridades sanitarias están reforzando la recomendación a la población de la consulta rápida al médico de cabecera o el centro de salud más próximo ante la aparición de fiebre … [+5755 chars]', 'description': 'El momento más crítico de la enfermedad es cuando baja la fiebre; la consulta rápida es fundamental para evitar complicaciones', 'publishedAt': '2024-03-26T13:48:39Z', 'source': {'id': 'la-nacion', 'name': 'La Nacion'}, 'title': 'Dengue grave: quiénes tiene más riesgo de desarrollar formas severas de la infección', 'url': 'https://www.lanacion.com.ar/sociedad/dengue-grave-quienes-tiene-mas-riesgo-de-desarrollar-formas-severas-de-la-infeccion-nid26032024/', 'urlToImage': 'https://resizer.glanacion.com/resizer/v2/el-dengue-grave-se-puede-dar-sin-haber-tenido-una-2LQGZDZ4ONDFHI4O6DH4FWA52E.JPG?auth=375e33ec43d1077de8381e490afee691a4924f87f1f188be369b02e85121bd08&width=768&quality=70&smart=false'}, {'author': 'Alfredo Sainz', 'content': 'La explosión de los casos de dengue ya impacta en las góndolas de los supermercados y las cadenas de farmacias, que advierten que los stocks de repelentes no alcanzan a cubrir la disparada de la dema… [+2874 chars]', 'description': 'Con la explosión de casos de dengue se disparó la demanda; las ventas se multiplicaron por tres o cuatro y en las empresas fabricantes esperan normalizar las entregas en los próximos días', 'publishedAt': '2024-03-26T13:49:00Z', 'source': {'id': 'la-nacion', 'name': 'La Nacion'}, 'title': 'Faltante de repelentes: “Lo que ponemos en la góndola desaparece en unos minutos”', 'url': 'https://www.lanacion.com.ar/economia/negocios/faltante-de-repelentes-lo-que-ponemos-en-la-gondola-desaparece-en-unos-minutos-nid26032024/', 'urlToImage': 'https://resizer.glanacion.com/resizer/v2/la-produccion-no-alcanza-a-cubrir-la-mayor-DUPYO5PJTBGPFJXG5RZOACGFTY.JPG?auth=87f957481b66eee97e86ac4c19812b45c737a6c9eef5ef2700319f88ad9dd8ef&width=768&quality=70&smart=false'}, {'author': 'Redação', 'content': 'Cerca de 48% das pessoas com dengue que evoluem para a forma grave da doença desenvolvem a miocardite, uma inflamação no músculo do coração, de acordo com a Sociedade Brasileira de Cardiologia (SBC).… [+1572 chars]', 'description': 'Cerca de 48% das pessoas com dengue que evoluem para a forma grave da doença desenvolvem a miocardite, uma inflamação no músculo do coração, de acordo com', 'publishedAt': '2024-03-26T13:01:38Z', 'source': {'id': None, 'name': 'Catracalivre.com.br'}, 'title': 'Pessoas com dengue podem desenvolver inflamação\\xa0perigosa', 'url': 'https://catracalivre.com.br/saude-bem-estar/pessoas-com-dengue-podem-desenvolver-inflamacao-perigosa/', 'urlToImage': 'https://catracalivre.com.br/cdn-cgi/image/f=auto,q=60,w=1280,h=720,fit=cover,format=jpeg/wp-content/uploads/2024/02/dengue.jpg'}, {'author': None, 'content': 'La epidemia de dengue no da tregua: la cantidad de casos notificados en el país superó la barrera de los 200.000 en lo que va del año y las provincias llevan confirmados más de 134.000 de esos diagnó… [+6190 chars]', 'description': 'La cantidad de casos notificados de la enfermedad en el país superó la barrera de los 200.000 en lo que va del año', 'publishedAt': '2024-03-26T13:41:18Z', 'source': {'id': 'la-nacion', 'name': 'La Nacion'}, 'title': 'Dengue: en qué zonas de la Argentina la epidemia golpea más fuerte', 'url': 'https://www.lanacion.com.ar/sociedad/dengue-en-que-zonas-de-la-argentina-la-epidemia-golpea-mas-fuerte-nid26032024/', 'urlToImage': 'https://resizer.glanacion.com/resizer/v2/mapa-del-MHBKIF7JSZFTJLILJXQTVGS5BU.jpg?auth=0099a4685fe0606285cadd91b356daae396182f14468516124d3af8bf727c565&width=768&quality=70&smart=false'}]\n",
      "Novas notícias foram encontradas e salvas: [{'author': 'EdiCase, EdiCase', 'content': 'Com a chegada do outono, a susceptibilidade de crianças de até dois anos a uma série de doenças respiratórias aumenta, como resfriados, gripes e até mesmo a temida bronquiolite (infecção do trato res… [+2920 chars]', 'description': 'Médico explica como alguns hábitos nesta época do ano são importantes para proteger a saúde dos pequenos', 'publishedAt': '2024-03-26T14:35:03Z', 'source': {'id': None, 'name': 'Ig.com.br'}, 'title': 'Veja como proteger as crianças das doenças de outono', 'url': 'https://saude.ig.com.br/parceiros/edicase/2024-03-26/veja-como-proteger-as-criancas-das-doencas-de-outono.html', 'urlToImage': 'https://i0.statig.com.br/bancodeimagens/ew/w6/07/eww6075loh1pu6olgybbwqpde.jpg'}, {'author': 'Portal EdiCase', 'content': 'Com a chegada do outono, a susceptibilidade de crianças de até dois anos a uma série de doenças respiratórias aumenta, como resfriados, gripes e até mesmo a temida bronquiolite (infecção do trato res… [+3158 chars]', 'description': 'Médico explica como alguns hábitos nesta época do ano são importantes para proteger a saúde dos pequenos', 'publishedAt': '2024-03-26T14:30:31Z', 'source': {'id': None, 'name': 'Terra.com.br'}, 'title': 'Veja como proteger as crianças das doenças de outono', 'url': 'https://www.terra.com.br/vida-e-estilo/saude/veja-como-proteger-as-criancas-das-doencas-de-outono,eaf43ea71f71cb61f2b009f4882b16f1mfyomtn1.html', 'urlToImage': 'https://p2.trrsf.com/image/fget/cf/1200/630/middle/images.terra.com/2024/03/26/1051624734-bebe-andando.jpg'}]\n",
      "Novas notícias foram encontradas e salvas: [{'author': 'pbs.org', 'content': 'SAN JUAN, Puerto Rico (AP) Puerto Ricos health secretary declared an epidemic on Monday following a spike in dengue cases.READ MORE: Norovirus illnesses are up in some places. Heres what you need to … [+254 chars]', 'description': 'SAN JUAN, Puerto Rico (AP) — Puerto Rico’s health secretary declared an epidemic on Monday following a spike in dengue cases. READ MORE: Norovirus illnesses are up in some places. Here’s what you need to know The U.S. territory of 3.2 million people has repor…', 'publishedAt': '2024-03-26T15:22:18Z', 'source': {'id': None, 'name': 'Biztoc.com'}, 'title': 'Puerto Rico has declared an epidemic following a sharp rise in dengue cases', 'url': 'https://biztoc.com/x/4c11878049833ba9', 'urlToImage': 'https://c.biztoc.com/p/4c11878049833ba9/s.webp'}, {'author': 'Associated Press', 'content': 'SAN JUAN, Puerto Rico (AP) Puerto Rico’s health secretary declared an epidemic on Monday following a spike in dengue cases.\\r\\nREAD MORE: Norovirus illnesses are up in some places. Heres what you need … [+956 chars]', 'description': \"More than 340 people have been hospitalized for the mosquito-borne virus, according to the island's health department.\", 'publishedAt': '2024-03-26T15:15:55Z', 'source': {'id': None, 'name': 'PBS'}, 'title': 'Puerto Rico has declared an epidemic following a sharp rise in dengue cases', 'url': 'https://www.pbs.org/newshour/world/puerto-rico-has-declared-an-epidemic-following-a-sharp-rise-in-dengue-cases', 'urlToImage': 'https://d3i6fh83elv35t.cloudfront.net/static/2019/03/AedesalbopictusJamesGathanyCDC1-1024x550.jpg'}]\n",
      "Novas notícias foram encontradas e salvas: [{'author': 'Andreza Matais', 'content': 'A coluna não conseguiu contato com o secretário especial de saúde indígena, Ricardo Weibe. Filiado ao PT, ele é vereador licenciado por Caucauia (CE). O ministério ainda não ligou de volta.\\r\\nUm dos p… [+1603 chars]', 'description': 'A diretora do Departamento de Atenção Primária à Saúda Indígena, Carmem Pankararu, foi exonerada nesta terça-feira, 26, do Ministério da Saúde. Em conversa com a coluna, ela disse que está em viagem a trabalho e soube da demissão pelo Diário Oficial (D', 'publishedAt': '2024-03-26T16:53:00Z', 'source': {'id': None, 'name': 'Uol.com.br'}, 'title': None, 'url': 'https://noticias.uol.com.br/colunas/andreza-matais/2024/03/26/ministerio-de-nisia-demite-diretora-via-diario-oficial.htm', 'urlToImage': 'https://conteudo.imguol.com.br/c/noticias/47/2023/01/19/a-ministra-da-saude-nisia-trindade-1674133039421_v2_615x300.jpg'}, {'author': 'KOLJA GÄRTNER', 'content': 'Speyer (Rheinland-Pfalz) So früh wie nie sind in Deutschland Moskitos am Schlüpfen. Auch die gefährliche Asiatische Tigermücke fährt schon den Saugstachel aus.\\r\\nDie dunkelbraun-weiß geringelten Plage… [+2021 chars]', 'description': 'Speyer (Rheinland-Pfalz) – So früh wie nie sind in Deutschland Moskitos am Schlüpfen. Auch die gefährliche Asiatische Tigermücke fährt den Saugstachel aus.', 'publishedAt': '2024-03-26T16:34:29Z', 'source': {'id': 'bild', 'name': 'Bild'}, 'title': 'Früher als sonst geschlüpft - Tigermücken saugen jetzt schon Blut', 'url': 'https://www.bild.de/regional/baden-wuerttemberg/regional/tigermuecken-und-stechmuecken-blutsauger-stechen-jetzt-schon-87657492.bild.html', 'urlToImage': 'https://images.bild.de/66029a0b27e00f5dc5c12b9b/b6dd969e9940001c57cac50e06620898,f0d1896c?w=1280'}]\n",
      "Novas notícias foram encontradas e salvas: [{'author': None, 'content': 'MADRID, 26 Mar. (EUROPA PRESS) - \\r\\n Un equipo de expertos en enfermedades infecciosas ha pedido más concienciación y preparación en el ámbito médico para hacer frente al impacto del cambio climático … [+4866 chars]', 'description': 'Un equipo de expertos en enfermedades infecciosas ha pedido más concienciación y preparación en el ámbito médico para hacer frente al impacto del cambio climático en la propagación de enfermedades.', 'publishedAt': '2024-03-26T17:01:10Z', 'source': {'id': None, 'name': 'Infosalus.com'}, 'title': 'El cambio climático alimentará la propagación de enfermedades infecciosas', 'url': 'https://www.infosalus.com/salud-investigacion/noticia-cambio-climatico-alimentara-propagacion-enfermedades-infecciosas-20240326180110.html', 'urlToImage': 'https://img.europapress.es/fotoweb/fotonoticia_20240326180110_1200.jpg'}]\n",
      "Novas notícias foram encontradas e salvas: [{'author': 'LA NACION', 'content': 'El escenario epidemiológico nacional es alertante respecto al dengue, trasmitido por la picadura de los mosquitos Aedes aegypti. Las cifras oficiales indican que hay 134.000 casos activos en el país,… [+2347 chars]', 'description': 'Al estar aislados, los jugadores no saben del brote que hay en el país; sin embargo, desde la producción del reality les alertaron sobre los cuidados que deben tener', 'publishedAt': '2024-03-26T18:11:33Z', 'source': {'id': 'la-nacion', 'name': 'La Nacion'}, 'title': 'Gran Hermano: la advertencia a los jugadores para prevenir el dengue', 'url': 'https://www.lanacion.com.ar/espectaculos/gran-hermano-la-advertencia-a-los-jugadores-para-prevenir-el-dengue-nid26032024/', 'urlToImage': 'https://resizer.glanacion.com/resizer/v2/los-jugadores-de-gh-fueron-advertidos-por-los-KWWU7TJWGJFLHBDINDUNWKNF4Q.jpg?auth=d5759bc30ef0bb0b04c41324e2d26a4c37e2082ed63a38c0c0de68139fb6b1f6&width=768&quality=70&smart=false'}, {'author': 'Vinícius Nunes', 'content': 'A prefeitura de São Paulo, sob Ricardo Nunes (MDB), foi representada no Ministério Público do Estado de São Paulo por má gestão de dinheiro público na vigilância epidemiológica. Segundo a representaç… [+1419 chars]', 'description': 'Gastos em vigilância epidemiológica caíram; capital paulista tem quase 50 mil casos de dengue; gestão cita fim da pandemia de covid-19', 'publishedAt': '2024-03-26T18:00:34Z', 'source': {'id': None, 'name': 'Metropoles.com'}, 'title': 'Ricardo Nunes corta quase metade da verba de combate à dengue em SP', 'url': 'https://www.metropoles.com/blog-do-noblat/ricardo-nunes-corta-quase-metade-da-verba-de-combate-a-dengue-em-sp', 'urlToImage': 'https://uploads.metropoles.com/wp-content/uploads/2023/09/01140826/ricardo-nunes-5.jpg'}, {'author': 'Leonardo Amaro', 'content': 'A dengue é uma doença infecciosa transmitida pela picada do mosquito Aedes aegypti. Com maior incidência no verão, tem como principais sintomas: dores no corpo e febre alta. Considerada um grave prob… [+2696 chars]', 'description': 'São Paulo registrou 24 mortes por dengue no último dia, a maior alta desde o início do ano; o total de casos confirmados chegou a 332.139', 'publishedAt': '2024-03-26T18:25:34Z', 'source': {'id': None, 'name': 'Metropoles.com'}, 'title': 'SP registra maior alta diária de mortes por dengue; 8 só na capital', 'url': 'https://www.metropoles.com/sao-paulo/sp-registra-maior-alta-diaria-de-mortes-por-dengue-8-so-na-capital', 'urlToImage': 'https://uploads.metropoles.com/wp-content/uploads/2024/03/14211224/sociedade-se-mobiliza-contra-a-dengue.jpg'}]\n"
     ]
    }
   ],
   "source": [
    "def requisicao(query,one_hour_ago, current_time):   \n",
    "    # URL da API webhook\n",
    "    url = \"http://192.168.15.18:8000/webhook\"\n",
    "    \n",
    "    # Dados a serem enviados na requisição\n",
    "    data = {\n",
    "        \"query\": query,\n",
    "        \"from\":one_hour_ago,\n",
    "        \"to\":current_time\n",
    "    }\n",
    "\n",
    "    # Enviando a requisição POST para a API\n",
    "    response = requests.post(url, json=data)\n",
    "\n",
    "\n",
    "    # Verificando o status da resposta\n",
    "    if response.status_code == 200:\n",
    "\n",
    "        # Geração do arquivo JSON\n",
    "        webhook_data = response.json()\n",
    "\n",
    "        if webhook_data[\"totalResults\"] > 0:\n",
    "            \n",
    "            webhook_data = webhook_data[\"articles\"]\n",
    "\n",
    "            today = datetime.now().strftime('%Y-%m-%d')\n",
    "            hm = datetime.now().strftime('%H-%M')\n",
    "\n",
    "            folder_path = f'noticias/{today}'\n",
    "            if not os.path.exists(folder_path):\n",
    "                os.makedirs(folder_path)\n",
    "            with open(f'{folder_path}/{hm}-news.json', 'w') as f:\n",
    "                json.dump(webhook_data, f)\n",
    "            print(\"Novas notícias foram encontradas e salvas:\", webhook_data)\n",
    "\n",
    "        else:\n",
    "            print(\"Não há noticias novas com essa Query\")\n",
    "        \n",
    "    else:\n",
    "        # Caso contrário, houve um erro na requisição\n",
    "        print(\"Erro ao enviar webhook.\")\n",
    "\n",
    "\n",
    "while True:\n",
    "    query = \"dengue\"\n",
    "\n",
    "    dia_anterior = (datetime.now() - timedelta(days=1))\n",
    "    current_time = dia_anterior.strftime('%Y-%m-%dT%H:%M:%SZ')\n",
    "    one_hour_ago = (dia_anterior - timedelta(hours=1)).strftime('%Y-%m-%dT%H:%M:%SZ')\n",
    "    \n",
    "    # Seleção do tempo de rodagem do código a cada 1h\n",
    "    if current_time[-6:] == \"00:01Z\": #é considerado 1 segundo a mais para rodar, pois garante a requisição correta quando for as 00H00\n",
    "        requisicao(query,one_hour_ago, current_time)\n",
    "        time.sleep(10) \n",
    "\n",
    "\n"
   ]
  },
  {
   "cell_type": "markdown",
   "metadata": {},
   "source": [
    "### testes"
   ]
  },
  {
   "cell_type": "code",
   "execution_count": 172,
   "metadata": {},
   "outputs": [
    {
     "name": "stdout",
     "output_type": "stream",
     "text": [
      "2024-03-26 00:13:51.010519\n",
      "2024-03-26T00:13:51\n",
      "2024-03-25T23:13:51\n"
     ]
    }
   ],
   "source": [
    "dia_anterior = (datetime.now() - timedelta(days=1))\n",
    "current_time = dia_anterior.strftime('%Y-%m-%dT%H:%M:%S')\n",
    "one_hour_ago = (dia_anterior - timedelta(hours=1)).strftime('%Y-%m-%dT%H:%M:%S')\n",
    "\n",
    "print(dia_anterior)\n",
    "print(current_time)\n",
    "print(one_hour_ago)"
   ]
  },
  {
   "cell_type": "code",
   "execution_count": 173,
   "metadata": {},
   "outputs": [
    {
     "name": "stdout",
     "output_type": "stream",
     "text": [
      "Novas notícias foram encontradas e salvas: [{'author': 'The Associated Press', 'content': \"SAN JUAN, Puerto Rico -- Puerto Rico's health secretary declared an epidemic on Monday following a spike in dengue cases.\\r\\nThe U.S. territory of 3.2 million people has reported at least 549 cases so … [+871 chars]\", 'description': 'Puerto Rico has declared an epidemic following a spike in dengue cases', 'publishedAt': '2024-03-25T23:02:05Z', 'source': {'id': 'abc-news', 'name': 'ABC News'}, 'title': 'Puerto Rico has declared an epidemic following a spike in dengue cases', 'url': 'https://abcnews.go.com/International/wireStory/puerto-rico-declared-epidemic-spike-dengue-cases-108482841', 'urlToImage': 'https://s.abcnews.com/images/US/abc_news_default_2000x2000_update_16x9_992.jpg'}, {'author': 'Belén Liotti', 'content': '¿Cómo protegerse del mosquito del dengue? 4:52\\r\\n(CNN Español) -- El secretario de Salud de Puerto Rico, Carlos Mellado, informó este lunes que emitieron una declaración de emergencia de salud pública… [+1161 chars]', 'description': 'El secretario de Salud de Puerto Rico, Carlos Mellado, informó que emitieron “una declaración de emergencia de salud pública por dengue”, al resaltar que los casos de esa enfermedad infecciosa han superado este año las cifras históricas.', 'publishedAt': '2024-03-25T23:30:55Z', 'source': {'id': 'cnn', 'name': 'CNN'}, 'title': 'Puerto Rico emite declaración de emergencia por dengue', 'url': 'https://cnnespanol.cnn.com/2024/03/25/puerto-rico-declaracion-emergencia-dengue-orix/', 'urlToImage': 'https://cnnespanol.cnn.com/wp-content/uploads/2023/08/230817165107-aedes-aegypti-mosquito.webp'}]\n"
     ]
    }
   ],
   "source": [
    "query = \"dengue\"\n",
    "\n",
    "dia_anterior = (datetime.now() - timedelta(days=1))\n",
    "current_time = dia_anterior.strftime('%Y-%m-%dT%H:%M:%SZ')\n",
    "one_hour_ago = (dia_anterior - timedelta(hours=1)).strftime('%Y-%m-%dT%H:%M:%SZ')\n",
    "\n",
    "# URL da API webhook\n",
    "url = \"http://192.168.15.18:8000/webhook\"\n",
    "    \n",
    "    # Dados a serem enviados na requisição\n",
    "data = {\n",
    "    \"query\": query,\n",
    "    \"from\":\"2024-03-25T23:00:01Z\",\n",
    "    \"to\":\"2024-03-26T00:00:01Z\"\n",
    "}\n",
    "\n",
    "    # Enviando a requisição POST para a API\n",
    "response = requests.post(url, json=data)\n",
    "\n",
    "\n",
    "    # Verificando o status da resposta\n",
    "if response.status_code == 200:\n",
    "\n",
    "        # Geração do arquivo JSON\n",
    "    webhook_data = response.json()\n",
    "\n",
    "    if webhook_data[\"totalResults\"] > 0:\n",
    "            \n",
    "        webhook_data = webhook_data[\"articles\"]\n",
    "\n",
    "        today = datetime.now().strftime('%Y-%m-%d')\n",
    "        hm = datetime.now().strftime('%H-%M')\n",
    "\n",
    "        folder_path = f'noticias/{today}'\n",
    "        if not os.path.exists(folder_path):\n",
    "            os.makedirs(folder_path)\n",
    "        # with open(f'{folder_path}/{hm}-news.json', 'w') as f:\n",
    "        with open(f'{folder_path}/teste-news.json', 'w') as f: \n",
    "            json.dump(webhook_data, f)\n",
    "        print(\"Novas notícias foram encontradas e salvas:\", webhook_data)\n",
    "\n",
    "    else:\n",
    "        print(\"Não há noticias novas com essa Query\")\n",
    "        \n",
    "else:\n",
    "    # Caso contrário, houve um erro na requisição\n",
    "    print(\"Erro ao enviar webhook.\")\n",
    "\n",
    "\n",
    "\n",
    "\n",
    "    \n",
    "\n"
   ]
  }
 ],
 "metadata": {
  "kernelspec": {
   "display_name": "Python 3",
   "language": "python",
   "name": "python3"
  },
  "language_info": {
   "codemirror_mode": {
    "name": "ipython",
    "version": 3
   },
   "file_extension": ".py",
   "mimetype": "text/x-python",
   "name": "python",
   "nbconvert_exporter": "python",
   "pygments_lexer": "ipython3",
   "version": "3.10.11"
  }
 },
 "nbformat": 4,
 "nbformat_minor": 2
}
