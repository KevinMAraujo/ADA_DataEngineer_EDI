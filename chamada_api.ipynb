{
 "cells": [
  {
   "cell_type": "code",
   "execution_count": 45,
   "metadata": {},
   "outputs": [],
   "source": [
    "import requests\n",
    "import json\n",
    "import os\n",
    "import time\n",
    "from datetime import datetime, timedelta"
   ]
  },
  {
   "cell_type": "code",
   "execution_count": 51,
   "metadata": {},
   "outputs": [],
   "source": [
    "def requisicao(query,one_hour_ago, current_time):   \n",
    "    # URL da API webhook\n",
    "    url = \"http://192.168.15.18:8000/webhook\"\n",
    "    \n",
    "    # Dados a serem enviados na requisição\n",
    "    data = {\n",
    "        \"query\": query,\n",
    "        \"from\":one_hour_ago,\n",
    "        \"to\":current_time\n",
    "    }\n",
    "\n",
    "    # Enviando a requisição POST para a API\n",
    "    response = requests.post(url, json=data)\n",
    "\n",
    "\n",
    "    # Verificando o status da resposta\n",
    "    if response.status_code == 200:\n",
    "\n",
    "        # Geração do arquivo JSON\n",
    "        webhook_data = response.json()\n",
    "\n",
    "        if webhook_data[\"totalResults\"] > 0:\n",
    "            \n",
    "            webhook_data = webhook_data[\"articles\"]\n",
    "\n",
    "            today = datetime.now().strftime('%Y-%m-%d')\n",
    "            hm = datetime.now().strftime('%H-%M')\n",
    "\n",
    "            folder_path = f'noticias/{today}'\n",
    "            if not os.path.exists(folder_path):\n",
    "                os.makedirs(folder_path)\n",
    "            with open(f'{folder_path}/{hm}-news.json', 'w') as f:\n",
    "                json.dump(webhook_data, f)\n",
    "            print(\"Novas notícias foram encontradas e salvas:\", webhook_data)\n",
    "\n",
    "        else:\n",
    "            print(\"Não há noticias novas com essa Query\")\n",
    "        \n",
    "    else:\n",
    "        # Caso contrário, houve um erro na requisição\n",
    "        print(\"Erro ao enviar webhook.\")\n",
    "\n",
    "\n",
    "while True:\n",
    "    query = \"dengue\"\n",
    "\n",
    "    dia_anterior = (datetime.now() - timedelta(days=1))\n",
    "    current_time = dia_anterior.strftime('%Y-%m-%dT%H:%M:%S')\n",
    "    one_hour_ago = (dia_anterior - timedelta(hours=1)).strftime('%Y-%m-%d')\n",
    "    \n",
    "    if current_time[-5:] == \"00:00\":\n",
    "        requisicao(query,one_hour_ago, current_time)\n",
    "        time.sleep(10) \n",
    "\n",
    "\n"
   ]
  }
 ],
 "metadata": {
  "kernelspec": {
   "display_name": "Python 3",
   "language": "python",
   "name": "python3"
  },
  "language_info": {
   "codemirror_mode": {
    "name": "ipython",
    "version": 3
   },
   "file_extension": ".py",
   "mimetype": "text/x-python",
   "name": "python",
   "nbconvert_exporter": "python",
   "pygments_lexer": "ipython3",
   "version": "3.10.11"
  }
 },
 "nbformat": 4,
 "nbformat_minor": 2
}
