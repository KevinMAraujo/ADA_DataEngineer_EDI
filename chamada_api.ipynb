{
 "cells": [
  {
   "cell_type": "code",
   "execution_count": 1,
   "metadata": {},
   "outputs": [],
   "source": [
    "import requests\n",
    "import json\n",
    "import os\n",
    "import time\n",
    "from datetime import datetime, timedelta"
   ]
  },
  {
   "cell_type": "markdown",
   "metadata": {},
   "source": [
    "Essa é a requisição para Landing Zone:"
   ]
  },
  {
   "cell_type": "code",
   "execution_count": null,
   "metadata": {},
   "outputs": [],
   "source": [
    "def requisicao(query,one_hour_ago, current_time):   \n",
    "    # URL da API webhook\n",
    "    url = \"http://192.168.15.18:8000/webhook\"\n",
    "    \n",
    "    # Dados a serem enviados na requisição\n",
    "    data = {\n",
    "        \"query\": query,\n",
    "        \"from\":one_hour_ago,\n",
    "        \"to\":current_time\n",
    "    }\n",
    "\n",
    "    # Enviando a requisição POST para a API\n",
    "    response = requests.post(url, json=data)\n",
    "\n",
    "\n",
    "    # Verificando o status da resposta\n",
    "    if response.status_code == 200:\n",
    "\n",
    "        # Geração do arquivo JSON\n",
    "        webhook_data = response.json()\n",
    "\n",
    "        if webhook_data[\"totalResults\"] > 0:\n",
    "\n",
    "            dia_anterior = (datetime.now() - timedelta(days=1) - timedelta(hours=1)).strftime('%Y-%m-%d')\n",
    "\n",
    "            hm = (datetime.now() - timedelta(hours=1)).strftime('%H-%M')\n",
    "\n",
    "            folder_path = f'noticias/{dia_anterior}'\n",
    "            if not os.path.exists(folder_path):\n",
    "                os.makedirs(folder_path)\n",
    "            with open(f'{folder_path}/{hm}-news.json', 'w') as f:\n",
    "                json.dump(webhook_data, f)\n",
    "            print(\"Novas notícias foram encontradas e salvas:\", webhook_data)\n",
    "\n",
    "        else:\n",
    "            print(\"Não há noticias novas com essa Query\")\n",
    "        \n",
    "    else:\n",
    "        # Caso contrário, houve um erro na requisição\n",
    "        print(\"Erro ao enviar webhook.\")\n",
    "        if not os.path.exists(\"./log_erro.txt\"):\n",
    "            with open(f'log_erro.txt', 'w') as f:\n",
    "                f.write(f\"{hm},{response.text}\")\n",
    "        with open(f'news.json', 'a') as f:\n",
    "            f.write(f\"{hm},{response.text}\")\n"
   ]
  },
  {
   "cell_type": "markdown",
   "metadata": {},
   "source": [
    "Esse laço faz com que seja requisitado de hora em hora o webhook e também transforme todos os jsons do dia anterior em arquivo parquet para o Bronze"
   ]
  },
  {
   "cell_type": "code",
   "execution_count": null,
   "metadata": {},
   "outputs": [],
   "source": [
    "while True:\n",
    "    query = \"dengue\"\n",
    "\n",
    "    dia_anterior = (datetime.now() - timedelta(days=1))\n",
    "    current_time = dia_anterior.strftime('%Y-%m-%dT%H:%M:%SZ')\n",
    "    one_hour_ago = (dia_anterior - timedelta(hours=1)).strftime('%Y-%m-%dT%H:%M:%SZ')\n",
    "    \n",
    "    # Seleção do tempo de rodagem do código a cada 1h\n",
    "    if current_time[-6:] == \"00:01Z\": #é considerado 1 segundo a mais para rodar, pois garante a requisição correta quando for as 00H00\n",
    "        requisicao(query,one_hour_ago, current_time)\n",
    "        time.sleep(10) \n",
    "    if current_time[-9:] == \"00:00:01Z\":\n",
    "        pass\n",
    "        # codigo de juntar os json do dia em um parquet\n",
    "        # for arquivo na pasta usando OS:\n",
    "        #   arquivo = arquivo[\"article\"]\n",
    "        #   transforma esse arquivo em parquet unico # webhook_data = webhook_data[\"articles\"] # sendo 1 arquivo por dia\n",
    "        # remover/drop_duplicates nesse arquivo\n",
    "        # transformar esse arquivo do bronze para o silver (sendo que o silver é um arquivo já existente)"
   ]
  },
  {
   "cell_type": "markdown",
   "metadata": {},
   "source": [
    "### testes"
   ]
  },
  {
   "cell_type": "code",
   "execution_count": 172,
   "metadata": {},
   "outputs": [
    {
     "name": "stdout",
     "output_type": "stream",
     "text": [
      "2024-03-26 00:13:51.010519\n",
      "2024-03-26T00:13:51\n",
      "2024-03-25T23:13:51\n"
     ]
    }
   ],
   "source": [
    "dia_anterior = (datetime.now() - timedelta(days=1))\n",
    "current_time = dia_anterior.strftime('%Y-%m-%dT%H:%M:%S')\n",
    "one_hour_ago = (dia_anterior - timedelta(hours=1)).strftime('%Y-%m-%dT%H:%M:%S')\n",
    "\n",
    "print(dia_anterior)\n",
    "print(current_time)\n",
    "print(one_hour_ago)"
   ]
  },
  {
   "cell_type": "code",
   "execution_count": 173,
   "metadata": {},
   "outputs": [
    {
     "name": "stdout",
     "output_type": "stream",
     "text": [
      "Novas notícias foram encontradas e salvas: [{'author': 'The Associated Press', 'content': \"SAN JUAN, Puerto Rico -- Puerto Rico's health secretary declared an epidemic on Monday following a spike in dengue cases.\\r\\nThe U.S. territory of 3.2 million people has reported at least 549 cases so … [+871 chars]\", 'description': 'Puerto Rico has declared an epidemic following a spike in dengue cases', 'publishedAt': '2024-03-25T23:02:05Z', 'source': {'id': 'abc-news', 'name': 'ABC News'}, 'title': 'Puerto Rico has declared an epidemic following a spike in dengue cases', 'url': 'https://abcnews.go.com/International/wireStory/puerto-rico-declared-epidemic-spike-dengue-cases-108482841', 'urlToImage': 'https://s.abcnews.com/images/US/abc_news_default_2000x2000_update_16x9_992.jpg'}, {'author': 'Belén Liotti', 'content': '¿Cómo protegerse del mosquito del dengue? 4:52\\r\\n(CNN Español) -- El secretario de Salud de Puerto Rico, Carlos Mellado, informó este lunes que emitieron una declaración de emergencia de salud pública… [+1161 chars]', 'description': 'El secretario de Salud de Puerto Rico, Carlos Mellado, informó que emitieron “una declaración de emergencia de salud pública por dengue”, al resaltar que los casos de esa enfermedad infecciosa han superado este año las cifras históricas.', 'publishedAt': '2024-03-25T23:30:55Z', 'source': {'id': 'cnn', 'name': 'CNN'}, 'title': 'Puerto Rico emite declaración de emergencia por dengue', 'url': 'https://cnnespanol.cnn.com/2024/03/25/puerto-rico-declaracion-emergencia-dengue-orix/', 'urlToImage': 'https://cnnespanol.cnn.com/wp-content/uploads/2023/08/230817165107-aedes-aegypti-mosquito.webp'}]\n"
     ]
    }
   ],
   "source": [
    "query = \"dengue\"\n",
    "\n",
    "dia_anterior = (datetime.now() - timedelta(days=1))\n",
    "current_time = dia_anterior.strftime('%Y-%m-%dT%H:%M:%SZ')\n",
    "one_hour_ago = (dia_anterior - timedelta(hours=1)).strftime('%Y-%m-%dT%H:%M:%SZ')\n",
    "\n",
    "# URL da API webhook\n",
    "url = \"http://192.168.15.18:8000/webhook\"\n",
    "    \n",
    "    # Dados a serem enviados na requisição\n",
    "data = {\n",
    "    \"query\": query,\n",
    "    \"from\":\"2024-03-25T23:00:01Z\",\n",
    "    \"to\":\"2024-03-26T00:00:01Z\"\n",
    "}\n",
    "\n",
    "    # Enviando a requisição POST para a API\n",
    "response = requests.post(url, json=data)\n",
    "\n",
    "\n",
    "    # Verificando o status da resposta\n",
    "if response.status_code == 200:\n",
    "\n",
    "        # Geração do arquivo JSON\n",
    "    webhook_data = response.json()\n",
    "\n",
    "    if webhook_data[\"totalResults\"] > 0:\n",
    "            \n",
    "        today = datetime.now().strftime('%Y-%m-%d')\n",
    "        hm = datetime.now().strftime('%H-%M')\n",
    "\n",
    "        folder_path = f'noticias/{today}'\n",
    "        if not os.path.exists(folder_path):\n",
    "            os.makedirs(folder_path)\n",
    "        # with open(f'{folder_path}/{hm}-news.json', 'w') as f:\n",
    "        with open(f'{folder_path}/teste-news.json', 'w') as f: \n",
    "            json.dump(webhook_data, f)\n",
    "        print(\"Novas notícias foram encontradas e salvas:\", webhook_data)\n",
    "\n",
    "    else:\n",
    "        print(\"Não há noticias novas com essa Query\")\n",
    "        \n",
    "else:\n",
    "    # Caso contrário, houve um erro na requisição\n",
    "    print(\"Erro ao enviar webhook.\")\n",
    "\n",
    "\n",
    "\n",
    "\n",
    "    \n",
    "\n"
   ]
  }
 ],
 "metadata": {
  "kernelspec": {
   "display_name": "Python 3",
   "language": "python",
   "name": "python3"
  },
  "language_info": {
   "codemirror_mode": {
    "name": "ipython",
    "version": 3
   },
   "file_extension": ".py",
   "mimetype": "text/x-python",
   "name": "python",
   "nbconvert_exporter": "python",
   "pygments_lexer": "ipython3",
   "version": "3.10.11"
  }
 },
 "nbformat": 4,
 "nbformat_minor": 2
}
